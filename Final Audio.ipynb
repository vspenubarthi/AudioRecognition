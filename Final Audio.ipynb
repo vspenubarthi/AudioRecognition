{
 "cells": [
  {
   "cell_type": "code",
   "execution_count": 1,
   "metadata": {},
   "outputs": [],
   "source": [
    "import numpy as np\n",
    "%matplotlib notebook\n",
    "import matplotlib.pyplot as plt\n",
    "import matplotlib.mlab as mlab\n",
    "from microphone import record_audio\n",
    "from IPython.display import Audio\n",
    "from pathlib import Path\n",
    "from scipy.ndimage.filters import maximum_filter\n",
    "from scipy.ndimage.morphology import generate_binary_structure, binary_erosion \n",
    "from scipy.ndimage.morphology import iterate_structure\n",
    "import pickle"
   ]
  },
  {
   "cell_type": "code",
   "execution_count": 2,
   "metadata": {},
   "outputs": [],
   "source": [
    "def digitalToSpecto(audio):\n",
    "    S, freqs, times = mlab.specgram(audio, NFFT=4096, Fs=44100,\n",
    "                                  window=mlab.window_hanning,\n",
    "                                  noverlap=4096 // 2)\n",
    "    return(S)"
   ]
  },
  {
   "cell_type": "code",
   "execution_count": 3,
   "metadata": {},
   "outputs": [],
   "source": [
    "def spectrogram_to_peaks(arr):\n",
    "    \"\"\" \n",
    "    Creates a boolean array showing peaks, given data from a spectrogram.\n",
    "    \n",
    "    Parameters:\n",
    "        arr: The array produced by the spectrogram from digital_to_spectrogram with shape (N,M)\n",
    "        \n",
    "    Returns:\n",
    "        peaks: A boolean array with shape (N,M). Peaks in the data are where peaks == True.\n",
    "    \"\"\"\n",
    "    # Creating the histogram\n",
    "    arr_flattened = np.log(arr.flatten())\n",
    "    N = arr_flattened.size # Number of elements in the array\n",
    "    cnt, bin_edges = np.histogram(arr_flattened, bins=N//200, density=True)\n",
    "    bin_width = np.diff(bin_edges) \n",
    "    \n",
    "    ## print(np.sum(cnt*bin_width)) # check that summation = 1\n",
    "    \n",
    "    # Creating the cumulative distribution\n",
    "    cumulative_distr = np.cumsum(cnt*bin_width)\n",
    "    \n",
    "    # Defining the cutoff\n",
    "    frac_cut = 0.9\n",
    "    bin_index_of_cutoff = np.searchsorted(cumulative_distr, frac_cut)\n",
    "    \n",
    "    # given the bin-index, we want the associated log-amplitude value for that bin\n",
    "    cutoff_log_amplitude = bin_edges[bin_index_of_cutoff]\n",
    "    \n",
    "    # Defining the footprint\n",
    "    fp = generate_binary_structure(rank=2,connectivity=2)\n",
    "    \n",
    "    peaks = ((arr > cutoff_log_amplitude) & (arr == maximum_filter(arr, footprint=fp)))\n",
    "    \n",
    "    return peaks"
   ]
  },
  {
   "cell_type": "code",
   "execution_count": 4,
   "metadata": {},
   "outputs": [],
   "source": [
    "def peaks_to_dic_newsongs(local_peaks):\n",
    "    with open(\"songs.pkl\", mode=\"rb\") as opened_file:\n",
    "        song_dic = pickle.load(opened_file)\n",
    "    freq, time= np.where(local_peaks)\n",
    "    song_name=input(\"Song Name= \")\n",
    "    for i in range(len(local_peaks)-15):\n",
    "        j=1\n",
    "        while j<16:\n",
    "            finger=(freq[i], freq[i+j], time[j]-time[i])\n",
    "            j+=1\n",
    "            song_dir=(song_name, time[i])\n",
    "            song_dic.update([(finger, song_dir)])\n",
    "    with open(\"songs.pkl\", mode=\"wb\") as opened_file:\n",
    "        pickle.dump(song_dic, opened_file)\n",
    "    return \"Done\""
   ]
  },
  {
   "cell_type": "code",
   "execution_count": 5,
   "metadata": {},
   "outputs": [],
   "source": [
    "def putting_in_song(song):\n",
    "    arr=digitalToSpecto(audio)\n",
    "    local_peaks=spectrogram_to_peaks(arr)\n",
    "    peaks_to_dic_newsongs(local_peaks)"
   ]
  },
  {
   "cell_type": "code",
   "execution_count": null,
   "metadata": {},
   "outputs": [],
   "source": []
  }
 ],
 "metadata": {
  "kernelspec": {
   "display_name": "Python 3",
   "language": "python",
   "name": "python3"
  },
  "language_info": {
   "codemirror_mode": {
    "name": "ipython",
    "version": 3
   },
   "file_extension": ".py",
   "mimetype": "text/x-python",
   "name": "python",
   "nbconvert_exporter": "python",
   "pygments_lexer": "ipython3",
   "version": "3.6.4"
  }
 },
 "nbformat": 4,
 "nbformat_minor": 2
}
