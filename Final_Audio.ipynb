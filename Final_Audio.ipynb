{
 "cells": [
  {
   "cell_type": "code",
   "execution_count": null,
   "metadata": {
    "collapsed": true
   },
   "outputs": [],
   "source": [
    "import numpy as np\n",
    "import urllib\n",
    "import librosa\n",
    "%matplotlib notebook\n",
    "import matplotlib.pyplot as plt\n",
    "import matplotlib.mlab as mlab\n",
    "from microphone import record_audio\n",
    "from IPython.display import Audio\n",
    "from pathlib import Path\n",
    "from scipy.ndimage.filters import maximum_filter\n",
    "from scipy.ndimage.morphology import generate_binary_structure, binary_erosion \n",
    "from scipy.ndimage.morphology import iterate_structure\n",
    "import pickle\n",
    "from collections import Counter, defaultdict\n",
    "# make this a glboal variable - it is false unless audio_to_digital changes\n",
    "Checking=False "
   ]
  },
  {
   "cell_type": "code",
   "execution_count": null,
   "metadata": {
    "collapsed": true
   },
   "outputs": [],
   "source": [
    "def audio_to_digital(*file_path_or_music):\n",
    "    if(len(file_path_or_music)!= 0):\n",
    "        if(\".mp3\" in file_path_or_music[0]):\n",
    "            #analyze file input if it is there\n",
    "            from pathlib import Path\n",
    "            local_song_path = Path(file_path_or_music[0])\n",
    "            frames, sample_rate = librosa.load(local_song_path, sr=44100, mono=True, duration=5) #Seconds\n",
    "            audio_data = np.hstack([np.frombuffer(i, np.int16) for i in frames])\n",
    "\n",
    "        else:\n",
    "            #analyze file input if it is there\n",
    "            with open(file_path_or_music[0], 'r') as R:\n",
    "            # each sample is written to a single line in the text file\n",
    "            # this reads them in as a single integer-valued numpy array\n",
    "                audio_data = np.asarray([int(i) for i in R])\n",
    "    else:\n",
    "        #or else we are recording what they say\n",
    "        from microphone import record_audio\n",
    "        listen_time = 5  # seconds\n",
    "        frames, sample_rate = record_audio(listen_time)\n",
    "        # read in the recorded audio, saved as a numpy array of 16-bit integers\n",
    "        audio_data = np.hstack([np.frombuffer(i, np.int16) for i in frames])\n",
    "    return audio_data"
   ]
  },
  {
   "cell_type": "code",
   "execution_count": null,
   "metadata": {
    "collapsed": true
   },
   "outputs": [],
   "source": [
    "def digitalToSpecto(audio):\n",
    "    S, freqs, times = mlab.specgram(audio, NFFT=4096, Fs=44100,\n",
    "                                  window=mlab.window_hanning,\n",
    "                                  noverlap=4096 // 2)\n",
    "    return(S)"
   ]
  },
  {
   "cell_type": "code",
   "execution_count": null,
   "metadata": {
    "collapsed": true
   },
   "outputs": [],
   "source": [
    "def spectrogram_to_peaks(arr):\n",
    "    \"\"\" \n",
    "    Creates a boolean array showing peaks, given data from a spectrogram.\n",
    "    \n",
    "    Parameters:\n",
    "        arr: The array produced by the spectrogram from digital_to_spectrogram with shape (N,M)\n",
    "        \n",
    "    Returns:\n",
    "        peaks: A boolean array with shape (N,M). Peaks in the data are where peaks == True.\n",
    "    \"\"\"\n",
    "\n",
    "    # Creating the histogram\n",
    "    arr_flattened = np.log(arr.flatten() + 1e-20)\n",
    "    \n",
    "    N = arr_flattened.size # Number of elements in the array\n",
    "    cnt, bin_edges = np.histogram(arr_flattened, bins=N//200, density=True)\n",
    "    bin_width = np.diff(bin_edges) \n",
    "    \n",
    "    ## print(np.sum(cnt*bin_width)) # check that summation = 1\n",
    "    \n",
    "    # Creating the cumulative distribution\n",
    "    cumulative_distr = np.cumsum(cnt*bin_width)\n",
    "    \n",
    "    # Defining the cutoff\n",
    "    frac_cut = 0.9\n",
    "    bin_index_of_cutoff = np.searchsorted(cumulative_distr, frac_cut)\n",
    "    \n",
    "    # given the bin-index, we want the associated log-amplitude value for that bin\n",
    "    cutoff_log_amplitude = bin_edges[bin_index_of_cutoff]\n",
    "    \n",
    "    # Defining the footprint\n",
    "    fp = generate_binary_structure(rank=2,connectivity=2)\n",
    "    fp = np.ones((4,5))\n",
    "    \n",
    "    peaks = ((arr > cutoff_log_amplitude) & (arr == maximum_filter(arr, footprint=fp)))\n",
    "    \n",
    "    return peaks"
   ]
  },
  {
   "cell_type": "code",
   "execution_count": 7,
   "metadata": {
    "collapsed": true
   },
   "outputs": [],
   "source": [
    "def peaks_to_dic_newsongs(local_peaks):\n",
    "    \"\"\"\n",
    "    Creates a dictionary of fingerprints given the peaks from the previous function. Every time this function is called,\n",
    "    it will initialize an empty dictionary and populate it with values from our pickled database\n",
    "    to be compared against the fingerprint of the peaks that are currently being passed.\n",
    "    \n",
    "    Parameters:\n",
    "        local_peaks: A (N,M) boolean array of peaks in the audio data\n",
    "        \n",
    "    Returns:\n",
    "        None\n",
    "    \"\"\"\n",
    "    \n",
    "    # Compiling a new dictionary every time this function is called from the contents of the .pkl\n",
    "    song_dic = {} \n",
    "    with open(\"songs.pkl\", mode=\"rb\") as opened_file:\n",
    "        \n",
    "        # while the file has values, iterate through the file until you reach the end, and update the empty dict along the way\n",
    "        while True:\n",
    "            try:\n",
    "                entry = pickle.load(opened_file)\n",
    "            except EOFError:\n",
    "                break\n",
    "            else:\n",
    "                song_dic.update([entry])\n",
    "    time,freq= np.where(local_peaks)\n",
    "    song_name=input(\"Song Name= \")\n",
    "    fanout = 15\n",
    "    song_dic = defaultdict(list)\n",
    "    for i in range(freq.size-fanout):\n",
    "        for j in range(1,fanout+1):\n",
    "            finger=(freq[i], freq[i+j], time[i+j]-time[i])\n",
    "            if finger in song_dic.keys():\n",
    "                song_dir = (song_name, time[i])\n",
    "                song_dic[finger].append(song_dir)\n",
    "#                 previousfingers.append(song_dir) ## this is all extraneous previous code\n",
    "#                 print((finger, previousfingers))\n",
    "#                 song_dic.update([(finger, previousfingers)])\n",
    "            else:\n",
    "                song_dic[finger]=[(song_name, time[i])]\n",
    "            \n",
    "    # open and save to a pkl file, mode = wb for binary storage w/ numpy array\n",
    "    with open(\"songs.pkl\", mode=\"ab\") as opened_file:\n",
    "        \n",
    "        # For every entry in the new dictionary,pickle the entry.\n",
    "        # TODO: Figure out how to JUST append new items, rather than \n",
    "        for key, value in song_dic.items():\n",
    "            pickle.dump((key, value), opened_file)\n",
    "    print(\"Done\")"
   ]
  },
  {
   "cell_type": "code",
   "execution_count": 30,
   "metadata": {},
   "outputs": [
    {
     "name": "stdout",
     "output_type": "stream",
     "text": [
      "{1: 0, 8: 9}\n"
     ]
    }
   ],
   "source": [
    "# test cell\n",
    "song_dic = {1:0,8:0,8:9}\n",
    "with open(\"songs.pkl\", mode=\"ab\") as opened_file:\n",
    "    for key, value in song_dic.items():\n",
    "        pickle.dump((key, value), opened_file)\n",
    "        \n",
    "song_dic={}\n",
    "with open(\"songs.pkl\", mode=\"rb\") as opened_file:\n",
    "    while True:\n",
    "        try:\n",
    "            entry = pickle.load(opened_file)\n",
    "        except EOFError:\n",
    "            break\n",
    "        else:\n",
    "            song_dic.update([entry])\n",
    "            \n",
    "print(song_dic)"
   ]
  },
  {
   "cell_type": "code",
   "execution_count": 17,
   "metadata": {
    "collapsed": true
   },
   "outputs": [],
   "source": [
    "def peaks_to_dic_findsong(local_peaks):\n",
    "    \"\"\"\n",
    "    Creates a dictionary of fingerprints given the peaks from the previous function. Every time this function is called,\n",
    "    it will initialize an empty dictionary and populate it with values from our pickled database\n",
    "    to be compared against the fingerprint of the peaks that are currently being passed.\n",
    "    \n",
    "    Parameters:\n",
    "        local_peaks: A (N,M) boolean array of peaks in the audio data\n",
    "        \n",
    "    Returns:\n",
    "        song: the most common song in the database which corresponds to the fingerprints of the audio sample\n",
    "    \"\"\"\n",
    "    # Compiling a new dictionary every time this function is called from the contents of the .pkl\n",
    "    song_dic2 = {}\n",
    "    with open(\"songs.pkl\", mode=\"rb\") as opened_file:\n",
    "        \n",
    "        # while the file has values, iterate through the file until you reach the end, and update the empty dict along the way\n",
    "        while True:\n",
    "            try:\n",
    "                key, value = pickle.load(opened_file)\n",
    "            except EOFError:\n",
    "                break\n",
    "            else:\n",
    "                song_dic2.update([(key, value)])\n",
    "    time, freq= np.where(local_peaks)\n",
    "    songList = []\n",
    "    fingerList=[]\n",
    "    abs_time=[]\n",
    "    fanout=15\n",
    "    for i in range(freq.size-fanout):\n",
    "        for j in range(1,fanout+1):\n",
    "            finger=(freq[i], freq[i+j], time[i+j]-time[i])\n",
    "            abs_time.append(time[i])\n",
    "            fingerList.append(finger)\n",
    "    for i in range(len(fingerList)):\n",
    "        if fingerList[i] in song_dic2:\n",
    "            song_guess=song_dic2[fingerList[i]]\n",
    "            # for every song associated with that fingerprint, find the absolute dt between that song's timebin\n",
    "            # and the audio sample's time bin, and append both the name and dt to a list of songs\n",
    "            for t in range(len(song_guess)):\n",
    "                songList.append((song_guess[t][0], (song_guess[t][1]-abs_time[i])))\n",
    "    print(songList[:100])\n",
    "    Counter_songs= Counter(songList)\n",
    "    song =Counter_songs.most_common(1)\n",
    "    return song"
   ]
  },
  {
   "cell_type": "code",
   "execution_count": 9,
   "metadata": {
    "collapsed": true
   },
   "outputs": [],
   "source": [
    "def final_function(*song):\n",
    "    if(len(song)!=0):\n",
    "        audio=audio_to_digital(song[0])\n",
    "        arr=digitalToSpecto(audio)\n",
    "        local_peaks=spectrogram_to_peaks(arr)\n",
    "        peaks_to_dic_newsongs(local_peaks)\n",
    "    else:\n",
    "        audio=audio_to_digital()\n",
    "        arr=digitalToSpecto(audio)\n",
    "        local_peaks=spectrogram_to_peaks(arr)\n",
    "        return peaks_to_dic_findsong(local_peaks)\n",
    "    "
   ]
  },
  {
   "cell_type": "code",
   "execution_count": 18,
   "metadata": {},
   "outputs": [
    {
     "name": "stdout",
     "output_type": "stream",
     "text": [
      "Using input device 'Internal Microphone (Conexant S'\n",
      "Recording ended\n",
      "[(\"Don't Stop Me Now\", 154), (\"Don't Stop Me Now\", 769), (\"Don't Stop Me Now\", 824), (\"Don't Stop Me Now\", 1325), (\"Don't Stop Me Now\", 1342), (\"Don't Stop Me Now\", 1822), (\"Don't Stop Me Now\", 2048), (\"Don't Stop Me Now\", 389), (\"Don't Stop Me Now\", 431), (\"Don't Stop Me Now\", 1342), (\"Don't Stop Me Now\", 2019), (\"Don't Stop Me Now\", 774), (\"Don't Stop Me Now\", 1267), ('Gondry', 170), ('Gondry', 451), ('Gondry', 1421), ('Gondry', 1958), ('Gondry', 378), (\"Don't Stop Me Now\", 1725), ('Janet', 2020), (\"Don't Stop Me Now\", 1342), (\"Don't Stop Me Now\", 1700), (\"Don't Stop Me Now\", 1926), (\"Don't Stop Me Now\", 226), (\"Don't Stop Me Now\", 558), (\"Don't Stop Me Now\", 546), (\"Don't Stop Me Now\", 427), ('Gondry', 1795), ('Gondry', 1072), ('Gondry', 1968), (\"Don't Stop Me Now\", 612), (\"Don't Stop Me Now\", 1505), (\"Don't Stop Me Now\", 521), (\"Don't Stop Me Now\", 818), (\"Don't Stop Me Now\", 1129), (\"Don't Stop Me Now\", 1177), (\"Don't Stop Me Now\", 1486), (\"Don't Stop Me Now\", 1946), (\"Don't Stop Me Now\", 120), (\"Don't Stop Me Now\", 364), (\"Don't Stop Me Now\", 420), (\"Don't Stop Me Now\", 1012), (\"Don't Stop Me Now\", 1046), (\"Don't Stop Me Now\", 285), (\"Don't Stop Me Now\", 440), (\"Don't Stop Me Now\", 454), (\"Don't Stop Me Now\", 672), (\"Don't Stop Me Now\", 850), (\"Don't Stop Me Now\", 1152), (\"Don't Stop Me Now\", 1823), (\"Don't Stop Me Now\", 1893), (\"Don't Stop Me Now\", 1190), (\"Don't Stop Me Now\", 375), (\"Don't Stop Me Now\", 389), (\"Don't Stop Me Now\", 403), (\"Don't Stop Me Now\", 1197), (\"Don't Stop Me Now\", 1375), (\"Don't Stop Me Now\", 612), (\"Don't Stop Me Now\", 1197), (\"Don't Stop Me Now\", 1375), (\"Don't Stop Me Now\", 1983), (\"Don't Stop Me Now\", 856), (\"Don't Stop Me Now\", 1021), (\"Don't Stop Me Now\", 1197), (\"Don't Stop Me Now\", 558), (\"Don't Stop Me Now\", 631), (\"Don't Stop Me Now\", 733), (\"Don't Stop Me Now\", 854), (\"Don't Stop Me Now\", 875), (\"Don't Stop Me Now\", 1661), (\"Don't Stop Me Now\", 394), (\"Don't Stop Me Now\", 1981), (\"Don't Stop Me Now\", 591), (\"Don't Stop Me Now\", 774), (\"Don't Stop Me Now\", 905), (\"Don't Stop Me Now\", 1158), (\"Don't Stop Me Now\", 1867), (\"Don't Stop Me Now\", 1896), (\"Don't Stop Me Now\", 1981), (\"Don't Stop Me Now\", 1984), (\"Don't Stop Me Now\", 451), (\"Don't Stop Me Now\", 854), (\"Don't Stop Me Now\", 944), (\"Don't Stop Me Now\", 1267), (\"Don't Stop Me Now\", 1581), (\"Don't Stop Me Now\", 1625), (\"Don't Stop Me Now\", 78), (\"Don't Stop Me Now\", 1202), (\"Don't Stop Me Now\", 612), (\"Don't Stop Me Now\", 1258), (\"Don't Stop Me Now\", 1479), (\"Don't Stop Me Now\", 1801), (\"Don't Stop Me Now\", 682), (\"Don't Stop Me Now\", 612), ('Volar', 1637), ('Gondry', 1277), (\"Don't Stop Me Now\", 361), (\"Don't Stop Me Now\", 582), (\"Don't Stop Me Now\", 993), (\"Don't Stop Me Now\", 1051)]\n"
     ]
    },
    {
     "data": {
      "text/plain": [
       "[((\"Don't Stop Me Now\", 77), 244)]"
      ]
     },
     "execution_count": 18,
     "metadata": {},
     "output_type": "execute_result"
    }
   ],
   "source": [
    "final_function()"
   ]
  },
  {
   "cell_type": "code",
   "execution_count": null,
   "metadata": {
    "collapsed": true
   },
   "outputs": [],
   "source": []
  }
 ],
 "metadata": {
  "kernelspec": {
   "display_name": "Python 3",
   "language": "python",
   "name": "python3"
  },
  "language_info": {
   "codemirror_mode": {
    "name": "ipython",
    "version": 3
   },
   "file_extension": ".py",
   "mimetype": "text/x-python",
   "name": "python",
   "nbconvert_exporter": "python",
   "pygments_lexer": "ipython3",
   "version": "3.6.3"
  }
 },
 "nbformat": 4,
 "nbformat_minor": 2
}
