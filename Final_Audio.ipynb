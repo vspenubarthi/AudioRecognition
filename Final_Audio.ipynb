{
 "cells": [
  {
   "cell_type": "code",
   "execution_count": 99,
   "metadata": {},
   "outputs": [],
   "source": [
    "import numpy as np\n",
    "import urllib\n",
    "import librosa\n",
    "%matplotlib notebook\n",
    "import matplotlib.pyplot as plt\n",
    "import matplotlib.mlab as mlab\n",
    "from microphone import record_audio\n",
    "from IPython.display import Audio\n",
    "from pathlib import Path\n",
    "from scipy.ndimage.filters import maximum_filter\n",
    "from scipy.ndimage.morphology import generate_binary_structure, binary_erosion \n",
    "from scipy.ndimage.morphology import iterate_structure\n",
    "import pickle\n",
    "from collections import Counter, defaultdict\n",
    "# make this a glboal variable - it is false unless audio_to_digital changes\n",
    "Checking=False "
   ]
  },
  {
   "cell_type": "code",
   "execution_count": 113,
   "metadata": {},
   "outputs": [],
   "source": [
    "def audio_to_digital(*file_path_or_music):\n",
    "    if(len(file_path_or_music)!= 0):\n",
    "        \"\"\"if file_path_or_music is Path:\n",
    "            local_song_path=file_path_or_music[0]\n",
    "            frames, sample_rate = librosa.load(local_song_path, sr=44100, mono=True, duration=5) #Seconds\n",
    "            audio_data = np.hstack([np.frombuffer(i, np.int16) for i in frames])\"\"\"\n",
    "        if(\".mp3\" in file_path_or_music[0]):\n",
    "            #analyze file input if it is there\n",
    "            from pathlib import Path\n",
    "            local_song_path = Path(file_path_or_music[0])\n",
    "            frames, sample_rate = librosa.load(local_song_path, sr=44100, mono=True, duration=5) #Seconds\n",
    "            audio_data = np.hstack([np.frombuffer(i, np.int16) for i in frames])\n",
    "\n",
    "        else:\n",
    "            #analyze file input if it is there\n",
    "            with open(file_path_or_music[0], 'r') as R:\n",
    "            # each sample is written to a single line in the text file\n",
    "            # this reads them in as a single integer-valued numpy array\n",
    "                audio_data = np.asarray([int(i) for i in R])\n",
    "    else:\n",
    "        #or else we are recording what they say\n",
    "        from microphone import record_audio\n",
    "        listen_time = 10  # seconds\n",
    "        frames, sample_rate = record_audio(listen_time)\n",
    "        # read in the recorded audio, saved as a numpy array of 16-bit integers\n",
    "        audio_data = np.hstack([np.frombuffer(i, np.int16) for i in frames])\n",
    "    return audio_data"
   ]
  },
  {
   "cell_type": "code",
   "execution_count": 114,
   "metadata": {},
   "outputs": [],
   "source": [
    "def digitalToSpecto(audio):\n",
    "    S, freqs, times = mlab.specgram(audio, NFFT=4096, Fs=44100,\n",
    "                                  window=mlab.window_hanning,\n",
    "                                  noverlap=4096 // 2)\n",
    "    return(S)"
   ]
  },
  {
   "cell_type": "code",
   "execution_count": 115,
   "metadata": {},
   "outputs": [],
   "source": [
    "def spectrogram_to_peaks(arr):\n",
    "    \"\"\" \n",
    "    Creates a boolean array showing peaks, given data from a spectrogram.\n",
    "    \n",
    "    Parameters:\n",
    "        arr: The array produced by the spectrogram from digital_to_spectrogram with shape (N,M)\n",
    "        \n",
    "    Returns:\n",
    "        peaks: A boolean array with shape (N,M). Peaks in the data are where peaks == True.\n",
    "    \"\"\"\n",
    "\n",
    "    # Creating the histogram\n",
    "    arr_flattened = np.log(arr.flatten() + 1e-20)\n",
    "    \n",
    "    N = arr_flattened.size # Number of elements in the array\n",
    "    cnt, bin_edges = np.histogram(arr_flattened, bins=N//200, density=True)\n",
    "    bin_width = np.diff(bin_edges) \n",
    "    \n",
    "    ## print(np.sum(cnt*bin_width)) # check that summation = 1\n",
    "    \n",
    "    # Creating the cumulative distribution\n",
    "    cumulative_distr = np.cumsum(cnt*bin_width)\n",
    "    \n",
    "    # Defining the cutoff\n",
    "    frac_cut = 0.9\n",
    "    bin_index_of_cutoff = np.searchsorted(cumulative_distr, frac_cut)\n",
    "    \n",
    "    # given the bin-index, we want the associated log-amplitude value for that bin\n",
    "    cutoff_log_amplitude = bin_edges[bin_index_of_cutoff]\n",
    "    \n",
    "    # Defining the footprint\n",
    "    fp = generate_binary_structure(rank=2,connectivity=2)\n",
    "    fp = np.ones((4,5))\n",
    "    \n",
    "    peaks = ((arr > cutoff_log_amplitude) & (arr == maximum_filter(arr, footprint=fp)))\n",
    "    \n",
    "    return peaks"
   ]
  },
  {
   "cell_type": "code",
   "execution_count": 116,
   "metadata": {},
   "outputs": [],
   "source": [
    "def peaks_to_dic_newsongs(local_peaks):\n",
    "    \"\"\"\n",
    "    Creates a dictionary of fingerprints given the peaks from the previous function. Every time this function is called,\n",
    "    it will initialize an empty dictionary and populate it with values from our pickled database\n",
    "    to be compared against the fingerprint of the peaks that are currently being passed.\n",
    "    \n",
    "    Parameters:\n",
    "        local_peaks: A (N,M) boolean array of peaks in the audio data\n",
    "        \n",
    "    Returns:\n",
    "        None\n",
    "    \"\"\"\n",
    "    \n",
    "    # Compiling a new dictionary every time this function is called from the contents of the .pkl\n",
    "    song_dic = {} \n",
    "    with open(\"songs.pkl\", mode=\"rb\") as opened_file:\n",
    "        while True:\n",
    "            try:\n",
    "                entry = pickle.load(opened_file)\n",
    "            except EOFError:\n",
    "                break\n",
    "            else:\n",
    "                song_dic.update(entry)\n",
    "    time,freq= np.where(local_peaks)\n",
    "    song_name=input(\"Song Name= \")\n",
    "    fanout = 15\n",
    "    for i in range(freq.size-fanout):\n",
    "        for j in range(1,fanout+1):\n",
    "            finger=(freq[i], freq[i+j], time[i+j]-time[i])\n",
    "            if finger in song_dic.keys():\n",
    "                song_dir = (song_name, time[i])\n",
    "                song_list_dic=song_dic[finger]\n",
    "                song_list_dic.append(song_dir)\n",
    "                song_dic.update([(finger, song_list_dic)])\n",
    "         #       print(\"updated\")\n",
    "#                 previousfingers.append(song_dir) ## this is all extraneous previous code\n",
    "#                 print((finger, previousfingers))\n",
    "#                 song_dic.update([(finger, previousfingers)])\n",
    "            else:\n",
    "                song_dic[finger]=[(song_name, time[i])]      \n",
    "    # open and save to a pkl file, mode = wb for binary storage w/ numpy array\n",
    "    with open(\"songs.pkl\", mode=\"wb\") as opened_file:\n",
    "        pickle.dump(song_dic,opened_file)\n",
    "        # For every entry in the new dictionary,pickle the entry.\n",
    "        # TODO: Figure out how to JUST append new items, rather than \n",
    "       # for key, value in song_dic.items():\n",
    "           # print(\"it was put in\")\n",
    "            #pickle.append((key, value), opened_file)\n",
    "    print(\"Done\")"
   ]
  },
  {
   "cell_type": "code",
   "execution_count": 117,
   "metadata": {},
   "outputs": [
    {
     "name": "stdout",
     "output_type": "stream",
     "text": [
      "142631\n"
     ]
    }
   ],
   "source": [
    "# test cell\n",
    "\n",
    "song_dic={}\n",
    "with open(\"songs.pkl\", mode=\"rb\") as opened_file:\n",
    "    while True:\n",
    "        try:\n",
    "            entry = pickle.load(opened_file)\n",
    "        except EOFError:\n",
    "            break\n",
    "        else:\n",
    "            song_dic.update(entry)\n",
    "k=0\n",
    "for i in song_dic.values():\n",
    "    k+=1\n",
    "print(k)"
   ]
  },
  {
   "cell_type": "code",
   "execution_count": 118,
   "metadata": {},
   "outputs": [],
   "source": [
    "def peaks_to_dic_findsong(local_peaks):\n",
    "    \"\"\"\n",
    "    Creates a dictionary of fingerprints given the peaks from the previous function. Every time this function is called,\n",
    "    it will initialize an empty dictionary and populate it with values from our pickled database\n",
    "    to be compared against the fingerprint of the peaks that are currently being passed.\n",
    "    \n",
    "    Parameters:\n",
    "        local_peaks: A (N,M) boolean array of peaks in the audio data\n",
    "        \n",
    "    Returns:\n",
    "        song: the most common song in the database which corresponds to the fingerprints of the audio sample\n",
    "    \"\"\"\n",
    "    # Compiling a new dictionary every time this function is called from the contents of the .pkl\n",
    "    song_dic2 = {}\n",
    "    with open(\"songs.pkl\", mode=\"rb\") as opened_file:\n",
    "        while True:\n",
    "            try:\n",
    "                entry = pickle.load(opened_file)\n",
    "            except EOFError:\n",
    "                break\n",
    "            else:\n",
    "                song_dic2.update(entry)\n",
    "    time, freq= np.where(local_peaks)\n",
    "    songList = []\n",
    "    fingerList=[]\n",
    "    abs_time=[]\n",
    "    fanout=15\n",
    "    for i in range(freq.size-fanout):\n",
    "        for j in range(1,fanout+1):\n",
    "            finger=(freq[i], freq[i+j], time[i+j]-time[i])\n",
    "            abs_time.append(time[i])\n",
    "            fingerList.append(finger)\n",
    "    for i in range(len(fingerList)):\n",
    "        if fingerList[i] in song_dic2:\n",
    "            song_guess=song_dic2[fingerList[i]]\n",
    "            # for every song associated with that fingerprint, find the absolute dt between that song's timebin\n",
    "            # and the audio sample's time bin, and append both the name and dt to a list of songs\n",
    "            for t in range(len(song_guess)):\n",
    "                songList.append((song_guess[t][0], np.abs((song_guess[t][1]-abs_time[i]))))    \n",
    "                #print (song_guess[t][0], (song_guess[t][1]-abs_time[i]))\n",
    "    Counter_songs= Counter(songList)\n",
    "    song =Counter_songs.most_common(3)\n",
    "    return song"
   ]
  },
  {
   "cell_type": "code",
   "execution_count": 119,
   "metadata": {},
   "outputs": [],
   "source": [
    "def final_function(*song):\n",
    "    if(len(song)!=0):\n",
    "        audio=audio_to_digital(song[0])\n",
    "        arr=digitalToSpecto(audio)\n",
    "        local_peaks=spectrogram_to_peaks(arr)\n",
    "        peaks_to_dic_newsongs(local_peaks)\n",
    "    else:\n",
    "        audio=audio_to_digital()\n",
    "        arr=digitalToSpecto(audio)\n",
    "        local_peaks=spectrogram_to_peaks(arr)\n",
    "        return peaks_to_dic_findsong(local_peaks)\n",
    "    "
   ]
  },
  {
   "cell_type": "code",
   "execution_count": 126,
   "metadata": {},
   "outputs": [
    {
     "name": "stdout",
     "output_type": "stream",
     "text": [
      "Using input device 'Microphone Array (Realtek High'\n",
      "Recording ended\n"
     ]
    },
    {
     "data": {
      "text/plain": [
       "[(('Jungle', 38), 367),\n",
       " (('Hold Back The River', 8), 356),\n",
       " (('Jungle', 51), 355)]"
      ]
     },
     "execution_count": 126,
     "metadata": {},
     "output_type": "execute_result"
    }
   ],
   "source": [
    "final_function()"
   ]
  },
  {
   "cell_type": "code",
   "execution_count": 108,
   "metadata": {},
   "outputs": [
    {
     "name": "stdout",
     "output_type": "stream",
     "text": [
      "Songs\\Alvaro Soler - Volar.mp3\n",
      "Song Name= Volar\n",
      "Done\n",
      "Songs\\berhana - Janet.mp3\n",
      "Song Name= Janet\n",
      "Done\n",
      "Songs\\Born To Be Wild.mp3\n",
      "Song Name= Born To Be Wild\n",
      "Done\n",
      "Songs\\Come with Me Now.mp3\n",
      "Song Name= Come with Me Now\n",
      "Done\n",
      "Songs\\Despacito.mp3\n",
      "Song Name= Despacito\n",
      "Done\n",
      "Songs\\Dont Stop me Now - Queen.mp3\n",
      "Song Name= Dont Stop me Now\n",
      "Done\n",
      "Songs\\DragonForce - Trough the Fire and Flames [HQ (Very High Audio Quality)].mp3\n",
      "Song Name= Through the Fire and Flames\n",
      "Done\n",
      "Songs\\Hold Back The River.mp3\n",
      "Song Name= Hold Back The River\n",
      "Done\n",
      "Songs\\HONNE - Day 1.mp3\n",
      "Song Name= Honne\n",
      "Done\n",
      "Songs\\Hyukoh - Gondry.mp3\n",
      "Song Name= Gondry\n",
      "Done\n",
      "Songs\\I Knew You Were Trouble..mp3\n",
      "Song Name= I Knew You Were Trouble\n",
      "Done\n",
      "Songs\\Imagine Dragons - Believer.mp3\n",
      "Song Name= Believer\n",
      "Done\n",
      "Songs\\Imagine Dragons, Khalid - Thunder Young Dumb & Broke (MedleyAudio).mp3\n",
      "Song Name= Thunder Young Dumb & Broke\n",
      "Done\n",
      "Songs\\Jungle.mp3\n",
      "Song Name= Jungle\n",
      "Done\n",
      "Songs\\My Life - Billy Joel.mp3\n",
      "Song Name= My Life\n",
      "Done\n",
      "Songs\\No Name - NF.mp3\n",
      "Song Name= No Name\n",
      "Done\n",
      "Songs\\Paralyzer.mp3\n",
      "Song Name= Paralyzer\n",
      "Done\n",
      "Songs\\Phum Viphurit - Lover Boy.mp3\n",
      "Song Name= Lover Boy\n",
      "Done\n",
      "Songs\\PokémonThemeSong.mp3\n",
      "Song Name= Pokémon Theme Song\n",
      "Done\n",
      "Songs\\Real - NF.mp3\n",
      "Song Name= Real\n",
      "Done\n",
      "Songs\\September - Earth Wind Fire.mp3\n",
      "Song Name= September\n",
      "Done\n",
      "Songs\\Seven Nation Army.mp3\n",
      "Song Name= Seven Nation Army\n",
      "Done\n",
      "Songs\\ShakeItOff.mp3\n",
      "Song Name= Shake It Off\n",
      "Done\n",
      "Songs\\Skrillex - Bangarang (Ft. Sirah) [Official Audio].mp3\n",
      "Song Name= Bangarang\n",
      "Done\n",
      "Songs\\Summer Was Fun - My Dear [Monstercat Release].mp3\n",
      "Song Name= My Dear\n",
      "Done\n",
      "Songs\\The Show Goes On.mp3\n",
      "Song Name= The Show Goes On\n",
      "Done\n",
      "Songs\\WitchDoctor.mp3\n",
      "Song Name= Witch Doctor\n",
      "Done\n"
     ]
    }
   ],
   "source": [
    "#Testing and puting in the songs\n",
    "from pathlib import Path\n",
    "root=Path(\".\")\n",
    "files=sorted(Path(root / \"Songs\").glob('*.mp3'))\n",
    "for i in range(len(files)):\n",
    "    print(files[i])\n",
    "    final_function(files[i])"
   ]
  },
  {
   "cell_type": "code",
   "execution_count": 107,
   "metadata": {},
   "outputs": [],
   "source": [
    "with open(\"songs.pkl\", mode=\"wb\") as opened_file:\n",
    "    pickle.dump({}, opened_file)"
   ]
  },
  {
   "cell_type": "code",
   "execution_count": 77,
   "metadata": {},
   "outputs": [
    {
     "ename": "SyntaxError",
     "evalue": "invalid syntax (<ipython-input-77-0950bf7915fd>, line 1)",
     "output_type": "error",
     "traceback": [
      "\u001b[1;36m  File \u001b[1;32m\"<ipython-input-77-0950bf7915fd>\"\u001b[1;36m, line \u001b[1;32m1\u001b[0m\n\u001b[1;33m    jupyter notebook --NotebookApp.iopub_data_rate_limit=10000000000\u001b[0m\n\u001b[1;37m                   ^\u001b[0m\n\u001b[1;31mSyntaxError\u001b[0m\u001b[1;31m:\u001b[0m invalid syntax\n"
     ]
    }
   ],
   "source": [
    "jupyter notebook --NotebookApp.iopub_data_rate_limit=10000000000"
   ]
  },
  {
   "cell_type": "code",
   "execution_count": null,
   "metadata": {},
   "outputs": [],
   "source": []
  }
 ],
 "metadata": {
  "kernelspec": {
   "display_name": "Python 3",
   "language": "python",
   "name": "python3"
  },
  "language_info": {
   "codemirror_mode": {
    "name": "ipython",
    "version": 3
   },
   "file_extension": ".py",
   "mimetype": "text/x-python",
   "name": "python",
   "nbconvert_exporter": "python",
   "pygments_lexer": "ipython3",
   "version": "3.6.4"
  }
 },
 "nbformat": 4,
 "nbformat_minor": 2
}
