{
 "cells": [
  {
   "cell_type": "code",
   "execution_count": 4,
   "metadata": {},
   "outputs": [],
   "source": [
    "#Takes the peaks and stores them as fingerprints\n",
    "import numpy as np\n",
    "\n",
    "%matplotlib notebook\n",
    "import matplotlib.pyplot as plt\n",
    "import matplotlib.mlab as mlab\n",
    "\n",
    "from scipy.ndimage.filters import maximum_filter\n",
    "from scipy.ndimage.morphology import generate_binary_structure, binary_erosion \n",
    "from scipy.ndimage.morphology import iterate_structure"
   ]
  },
  {
   "cell_type": "code",
   "execution_count": 5,
   "metadata": {},
   "outputs": [],
   "source": [
    "# running this cell loads the PCM-encoded data for the trumpet clip\n",
    "with open(\"../Vicious_Vishnus/data/piano.txt\", 'r') as R:\n",
    "    trumpet_audio = np.asarray([int(i) for i in R])\n",
    "    \n",
    "sampling_rate = 44100 # sampling rate in Hz"
   ]
  },
  {
   "cell_type": "code",
   "execution_count": 6,
   "metadata": {},
   "outputs": [],
   "source": [
    "# TESTING\n",
    "\n",
    "fig, ax = plt.subplots()\n",
    "\n",
    "S, freqs, times, im = ax.specgram(trumpet_audio, NFFT=4096, Fs=sampling_rate,\n",
    "                                  window=mlab.window_hanning,\n",
    "                                  noverlap=4096 // 2)\n",
    "fig.colorbar(im)\n",
    "\n",
    "print(trumpet_audio)\n",
    "\n",
    "ax.set_xlabel(\"Time (sec)\")\n",
    "ax.set_ylabel(\"Frequency (Hz)\")\n",
    "ax.set_title(\"Spectrogram of Trumpet\")\n",
    "ax.set_ylim(0, 6000);"
   ]
  },
  {
   "cell_type": "code",
   "execution_count": 7,
   "metadata": {},
   "outputs": [],
   "source": [
    "def spectrogram_to_peaks(arr):\n",
    "    \"\"\" \n",
    "    Creates a boolean array showing peaks, given data from a spectrogram.\n",
    "    \n",
    "    Parameters:\n",
    "        arr: The array produced by the spectrogram from digital_to_spectrogram with shape (N,M)\n",
    "        \n",
    "    Returns:\n",
    "        peaks: A boolean array with shape (N,M). Peaks in the data are where peaks == True.\n",
    "    \"\"\"\n",
    "    # Creating the histogram\n",
    "    arr_flattened = np.log(arr.flatten())\n",
    "    N = arr_flattened.size # Number of elements in the array\n",
    "    cnt, bin_edges = np.histogram(arr_flattened, bins=N//200, density=True)\n",
    "    bin_width = np.diff(bin_edges) \n",
    "    \n",
    "    ## print(np.sum(cnt*bin_width)) # check that summation = 1\n",
    "    \n",
    "    # Creating the cumulative distribution\n",
    "    cumulative_distr = np.cumsum(cnt*bin_width)\n",
    "    \n",
    "    # Defining the cutoff\n",
    "    frac_cut = 0.9\n",
    "    bin_index_of_cutoff = np.searchsorted(cumulative_distr, frac_cut)\n",
    "    \n",
    "    # given the bin-index, we want the associated log-amplitude value for that bin\n",
    "    cutoff_log_amplitude = bin_edges[bin_index_of_cutoff]\n",
    "    \n",
    "    # Defining the footprint\n",
    "    fp = generate_binary_structure(rank=2,connectivity=2)\n",
    "    \n",
    "    peaks = ((arr > cutoff_log_amplitude) & (arr == maximum_filter(arr, footprint=fp)))\n",
    "    \n",
    "    return peaks"
   ]
  },
  {
   "cell_type": "code",
   "execution_count": 8,
   "metadata": {},
   "outputs": [],
   "source": [
    "peaks = spectrogram_to_peaks(S)"
   ]
  },
  {
   "cell_type": "code",
   "execution_count": 9,
   "metadata": {},
   "outputs": [],
   "source": [
    "import pickle\n",
    "def peaks_to_dic_newsongs(local_peaks):\n",
    "    with open(\"songs.pkl\", mode=\"rb\") as opened_file:\n",
    "        song_dic = pickle.load(opened_file)\n",
    "    freq, time= np.where(local_peaks)\n",
    "    song_name=input(\"Song Name= \")\n",
    "    for i in range(len(local_peaks)-15):\n",
    "        j=1\n",
    "        while j<16:\n",
    "            finger=(freq[i], freq[i+j], time[j]-time[i])\n",
    "            j+=1\n",
    "            song_dir=(song_name, time[i])\n",
    "            song_dic.update([(finger, song_dir)])\n",
    "    print(song_dic)\n",
    "    with open(\"songs.pkl\", mode=\"wb\") as opened_file:\n",
    "        pickle.dump(song_dic, opened_file)"
   ]
  },
  {
   "cell_type": "code",
   "execution_count": 11,
   "metadata": {},
   "outputs": [
    {
     "data": {
      "text/plain": [
       "[0, 1, 2, 3, 4, 5, 6, 7, 8, 9, 10, 11, 12, 13, 14, 15]"
      ]
     },
     "execution_count": 11,
     "metadata": {},
     "output_type": "execute_result"
    }
   ],
   "source": [
    "j=1\n",
    "for j in range(16)\n"
   ]
  },
  {
   "cell_type": "code",
   "execution_count": null,
   "metadata": {},
   "outputs": [],
   "source": [
    "Counter(list).most_common(1)"
   ]
  },
  {
   "cell_type": "code",
   "execution_count": 10,
   "metadata": {},
   "outputs": [],
   "source": [
    "from collections import Counter\n",
    "def peaks_to_dic_findsong(local_peaks):\n",
    "    with open(\"songs.pkl\", mode=\"rb\") as opened_file:\n",
    "        song_dic = pickle.load(opened_file)\n",
    "    freq, time= np.where(local_peaks)\n",
    "    fingerList = []\n",
    "    for i in range(len(local_peaks)-15):\n",
    "        j=1\n",
    "        for j in range(16):\n",
    "            finger=(freq[i], freq[i+j], time[j]-time[i])\n",
    "            if finger in song_dic==True:\n",
    "                \n",
    "    with open(\"songs.pkl\", mode=\"wb\") as opened_file:\n",
    "        pickle.dump(song_dic, opened_file)"
   ]
  }
 ],
 "metadata": {
  "kernelspec": {
   "display_name": "Python 3",
   "language": "python",
   "name": "python3"
  },
  "language_info": {
   "codemirror_mode": {
    "name": "ipython",
    "version": 3
   },
   "file_extension": ".py",
   "mimetype": "text/x-python",
   "name": "python",
   "nbconvert_exporter": "python",
   "pygments_lexer": "ipython3",
   "version": "3.6.4"
  }
 },
 "nbformat": 4,
 "nbformat_minor": 2
}
