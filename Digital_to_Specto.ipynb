{
 "cells": [
  {
   "cell_type": "code",
   "execution_count": 1,
   "metadata": {},
   "outputs": [],
   "source": [
    "#Michael Heege 7/12/18\n",
    "import numpy as np\n",
    "%matplotlib notebook\n",
    "import matplotlib.pyplot as plt\n",
    "import matplotlib.mlab as mlab\n",
    "from microphone import record_audio\n",
    "from IPython.display import Audio\n",
    "from pathlib import Path"
   ]
  },
  {
   "cell_type": "code",
   "execution_count": 28,
   "metadata": {},
   "outputs": [],
   "source": [
    "def digitalToSpecto(audio):\n",
    "    S, freqs, times = mlab.specgram(audio, NFFT=4096, Fs=44100,\n",
    "                                  window=mlab.window_hanning,\n",
    "                                  noverlap=4096 // 2)\n",
    "    return(S)"
   ]
  },
  {
   "cell_type": "code",
   "execution_count": 29,
   "metadata": {},
   "outputs": [
    {
     "data": {
      "text/plain": [
       "array([[2.79289581e-01, 5.00626425e-02, 1.23156610e-01, ...,\n",
       "        1.63194720e-02, 7.86618324e-03, 2.63222065e-02],\n",
       "       [4.21705526e-01, 9.67795207e-02, 2.11196648e-02, ...,\n",
       "        4.71185376e-02, 4.85141817e-02, 4.80556453e-02],\n",
       "       [9.41845152e-02, 1.66534342e-02, 1.15666724e-01, ...,\n",
       "        1.10849461e-02, 3.14142519e-02, 1.53565014e-02],\n",
       "       ...,\n",
       "       [1.75041644e-04, 1.41066796e-03, 9.79232331e-04, ...,\n",
       "        3.96343524e-03, 4.14438595e-03, 6.46276265e-04],\n",
       "       [1.05126234e-03, 4.45747395e-04, 7.06241079e-05, ...,\n",
       "        6.74006013e-04, 2.73544655e-03, 4.17813761e-04],\n",
       "       [1.03224907e-03, 1.33245901e-04, 1.30537387e-06, ...,\n",
       "        8.16959975e-07, 3.41780978e-04, 7.61750055e-04]])"
      ]
     },
     "execution_count": 29,
     "metadata": {},
     "output_type": "execute_result"
    }
   ],
   "source": [
    "with open(\"trumpet.txt\", 'r') as R:\n",
    "    test_audio = np.asarray([int(i) for i in R])     #This is just a sample meant to replicate something I might get\n",
    "digitalToSpecto(test_audio)"
   ]
  }
 ],
 "metadata": {
  "kernelspec": {
   "display_name": "Python 3",
   "language": "python",
   "name": "python3"
  },
  "language_info": {
   "codemirror_mode": {
    "name": "ipython",
    "version": 3
   },
   "file_extension": ".py",
   "mimetype": "text/x-python",
   "name": "python",
   "nbconvert_exporter": "python",
   "pygments_lexer": "ipython3",
   "version": "3.6.4"
  }
 },
 "nbformat": 4,
 "nbformat_minor": 2
}
